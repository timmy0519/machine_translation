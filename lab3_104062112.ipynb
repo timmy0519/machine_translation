{
 "cells": [
  {
   "cell_type": "code",
   "execution_count": 1,
   "metadata": {},
   "outputs": [
    {
     "name": "stderr",
     "output_type": "stream",
     "text": [
      "Using TensorFlow backend.\n"
     ]
    }
   ],
   "source": [
    "import pandas as pd\n",
    "import re\n",
    "import keras.backend\n",
    "from keras.models import Model, load_model\n",
    "from keras.layers import Masking,Reshape,Input, LSTM,Bidirectional ,Dense, Embedding,Lambda,Activation,Add,Flatten\n",
    "from keras.callbacks import ModelCheckpoint, EarlyStopping, ReduceLROnPlateau\n",
    "import numpy as np\n",
    "import os.path\n",
    "\n",
    "import jieba\n",
    "from nltk import word_tokenize\n",
    "import os\n",
    "os.environ[\"CUDA_VISIBLE_DEVICES\"]=\"2\"\n",
    "checkpoint_path = 'weights.hdf5'\n",
    "from keras import backend as K"
   ]
  },
  {
   "cell_type": "code",
   "execution_count": 2,
   "metadata": {},
   "outputs": [
    {
     "data": {
      "text/plain": [
       "['/job:localhost/replica:0/task:0/device:GPU:0']"
      ]
     },
     "execution_count": 2,
     "metadata": {},
     "output_type": "execute_result"
    }
   ],
   "source": [
    "from keras import backend\n",
    "backend.tensorflow_backend._get_available_gpus()\n"
   ]
  },
  {
   "cell_type": "markdown",
   "metadata": {},
   "source": [
    "### details in the data \n",
    "1.Chinese sentense will contain 'space' in it. It seems useless for us to understand the meaning as there is no 'space' in a chinese sentense in comparison to english.\n",
    "\n",
    "2.Currently, I keep the punctuations ,such as ', . ?', in the sentence\n",
    "\n",
    "3.Consider chinese as a phrase or word?\n",
    "   -> use jieba to cut the phrase out \n",
    "4.Add start token and end token\n",
    "\n",
    "5.use additional embedding to work with pre-train embedding\n",
    "\n",
    "6.There are some words not in glove -> use special embedding along with the pretrain embedding to train those words.\n"
   ]
  },
  {
   "cell_type": "code",
   "execution_count": 3,
   "metadata": {
    "scrolled": true
   },
   "outputs": [
    {
     "name": "stderr",
     "output_type": "stream",
     "text": [
      "Building prefix dict from the default dictionary ...\n",
      "Loading model from cache /tmp/jieba.cache\n",
      "Loading model cost 1.207 seconds.\n",
      "Prefix dict has been built succesfully.\n"
     ]
    }
   ],
   "source": [
    "cmn_ = []\n",
    "with open('cmn.txt',encoding='UTF8') as f:\n",
    "    for line in f:\n",
    "        line = re.sub(r'[A-Z]',lambda x: x.group().lower(),line)\n",
    "        [english,chinese] = line.replace('\\n','').split('\\t')\n",
    "        chinese =  ['\\t'] + list(jieba.cut(chinese.replace(' ',''))) + ['\\n']\n",
    "\n",
    "        english = word_tokenize(english)\n",
    "        english = ['\\t'] + english + ['\\n']\n",
    "        cmn_.append([english,chinese])\n"
   ]
  },
  {
   "cell_type": "code",
   "execution_count": 4,
   "metadata": {},
   "outputs": [],
   "source": [
    "cmn_data = pd.DataFrame(cmn_,columns=['english','chinese'])\n",
    "del cmn_"
   ]
  },
  {
   "cell_type": "code",
   "execution_count": null,
   "metadata": {},
   "outputs": [],
   "source": []
  },
  {
   "cell_type": "code",
   "execution_count": 5,
   "metadata": {},
   "outputs": [],
   "source": [
    "en_token_set = []\n",
    "for i_list in cmn_data[\"english\"]:\n",
    "    en_token_set += i_list\n",
    "en_token_set = list(sorted(set(en_token_set)))\n",
    "en_token_set.insert(0,'<unk>')"
   ]
  },
  {
   "cell_type": "code",
   "execution_count": 6,
   "metadata": {},
   "outputs": [],
   "source": [
    "ch_token_set = []\n",
    "for i_list in cmn_data[\"chinese\"]:\n",
    "    ch_token_set += i_list\n",
    "ch_token_set = list(sorted(set(ch_token_set)))\n",
    "ch_token_set.insert(0,'<unk>')"
   ]
  },
  {
   "cell_type": "code",
   "execution_count": 7,
   "metadata": {},
   "outputs": [],
   "source": [
    "num_encoder_tokens = len(en_token_set)\n",
    "num_decoder_tokens = len(ch_token_set)\n",
    "epochs = 100\n",
    "batch_size = 256\n",
    "latent_dim = 256 # for chinese\n",
    "num_samples = len(cmn_data)\n",
    "max_encoder_seq_length = max([len(txt) for txt in cmn_data['english']])\n",
    "max_decoder_seq_length = max([len(txt) for txt in cmn_data['chinese']])\n"
   ]
  },
  {
   "cell_type": "code",
   "execution_count": null,
   "metadata": {},
   "outputs": [],
   "source": []
  },
  {
   "cell_type": "markdown",
   "metadata": {},
   "source": [
    " #### pre-train embedding"
   ]
  },
  {
   "cell_type": "code",
   "execution_count": 8,
   "metadata": {},
   "outputs": [
    {
     "name": "stdout",
     "output_type": "stream",
     "text": [
      "Found 400000 word vectors.\n"
     ]
    }
   ],
   "source": [
    "embeddings_index = {}\n",
    "GLOVE_DIR = '.'\n",
    "EMBEDDING_DIM = 100\n",
    "with open(os.path.join(GLOVE_DIR, 'glove.6B.100d.txt'),encoding='UTF8') as f:\n",
    "    for line in f:\n",
    "        values = line.split()\n",
    "        word = values[0]\n",
    "        coefs = np.asarray(values[1:], dtype='float32')\n",
    "        embeddings_index[word] = coefs\n",
    "print('Found %s word vectors.' % len(embeddings_index))"
   ]
  },
  {
   "cell_type": "markdown",
   "metadata": {},
   "source": [
    "#### check if each english word is in glove"
   ]
  },
  {
   "cell_type": "code",
   "execution_count": 9,
   "metadata": {},
   "outputs": [],
   "source": [
    "not_in_embedding = set()\n",
    "for i in en_token_set:\n",
    "    if i not in embeddings_index:\n",
    "        not_in_embedding.add(i)\n",
    "num_not_in_embedding = len(not_in_embedding)"
   ]
  },
  {
   "cell_type": "code",
   "execution_count": 10,
   "metadata": {},
   "outputs": [],
   "source": [
    "embedding_matrix = np.zeros((num_encoder_tokens, EMBEDDING_DIM))\n",
    "decode_embedding_matrix = np.zeros((num_decoder_tokens, EMBEDDING_DIM))\n",
    "special_embedding_matrix = np.zeros((num_not_in_embedding, EMBEDDING_DIM))\n",
    "# unk,start,end token will be the first both in special embedding and embedding\n",
    "cur = 0\n",
    "special_token = []\n",
    "embedding_index_copy = dict()\n",
    "for i,word in enumerate(en_token_set):\n",
    "    embedding_vector = embeddings_index.get(word)\n",
    "    if embedding_vector is not None:\n",
    "        # words not found in embedding index will be all-zeros.\n",
    "        embedding_matrix[i-cur] = embedding_vector\n",
    "        embedding_index_copy[word] = embedding_vector\n",
    "    else:\n",
    "        special_token.append(word)\n",
    "        cur+=1\n",
    "embedding_index = embedding_index_copy\n",
    "del embedding_index_copy"
   ]
  },
  {
   "cell_type": "code",
   "execution_count": 11,
   "metadata": {},
   "outputs": [],
   "source": [
    "#put the special tokens behind the back\n",
    "special_list = []\n",
    "for i in special_token:\n",
    "    en_token_set.remove(i)\n",
    "    special_list.append(i)\n",
    "en_token_set = special_list + en_token_set\n",
    "del special_list"
   ]
  },
  {
   "cell_type": "code",
   "execution_count": null,
   "metadata": {},
   "outputs": [],
   "source": []
  },
  {
   "cell_type": "markdown",
   "metadata": {},
   "source": [
    "## Create keras model"
   ]
  },
  {
   "cell_type": "markdown",
   "metadata": {},
   "source": [
    "#### Firstly,  prepare input data.\n",
    "Create space[0,1,2] for unknown,start,end token at start.\n"
   ]
  },
  {
   "cell_type": "code",
   "execution_count": 12,
   "metadata": {},
   "outputs": [],
   "source": [
    "input_token_index = dict(\n",
    "    [(word, i) for i, word in enumerate(en_token_set)])\n",
    "target_token_index = dict(\n",
    "    [(word, i) for i, word in enumerate(ch_token_set)])"
   ]
  },
  {
   "cell_type": "markdown",
   "metadata": {},
   "source": [
    "#### the last dimension of input data will be 1 rather than one-hot(num_tokens)\n",
    "Input to embedding layers should be a integer\n",
    "-> this (batch,timestep,input) will be expanded to (batch,timestep,input,embed_size)\n",
    "\n",
    "use reshape layer to discard the unwanted dimension \n",
    "-> (batch,timestep,embed_size)"
   ]
  },
  {
   "cell_type": "code",
   "execution_count": 91,
   "metadata": {},
   "outputs": [],
   "source": [
    "import keras.utils\n",
    "import numpy as np   \n",
    "\n",
    "class mygenerator(keras.utils.Sequence):\n",
    "    def __init__(self, x_set, y_set, batch_size):\n",
    "        self.x, self.y = x_set, y_set\n",
    "        self.batch_size = batch_size\n",
    "\n",
    "    def __len__(self):\n",
    "        return int(np.ceil(len(self.x) / float(self.batch_size)))\n",
    "    @staticmethod\n",
    "    def get_encoder_input_example(input_text):\n",
    "        example = np.zeros((max_encoder_seq_length,1))\n",
    "        for t, word in enumerate(input_text):\n",
    "            example[t, 0] = input_token_index[word]\n",
    "        return example\n",
    "    @staticmethod\n",
    "    def get_decoder_input_example(target_text):\n",
    "        example = np.zeros((max_decoder_seq_length,1))\n",
    "        for t, word in enumerate(target_text):\n",
    "            example[t, 0] = target_token_index[word]\n",
    "        return example\n",
    "    @staticmethod\n",
    "    def get_decoder_output_example(target_text):\n",
    "        example = np.zeros((max_decoder_seq_length,num_decoder_tokens))\n",
    "        for t, word in enumerate(target_text):\n",
    "            if t > 0:\n",
    "                example[t-1, target_token_index[word]] = 1.\n",
    "        return example\n",
    "    def __getitem__(self, idx):\n",
    "        batch_x = self.x[idx * self.batch_size:(idx + 1) * self.batch_size]\n",
    "        batch_y = self.y[idx * self.batch_size:(idx + 1) * self.batch_size]\n",
    "\n",
    "        x_encode_input = [self.get_encoder_input_example(encoder_input) for encoder_input in batch_x]\n",
    "        y_decode_input = [self.get_decoder_input_example(decoder_input) for decoder_input in batch_y]\n",
    "        y_decode_output = [self.get_decoder_output_example(decoder_output) for decoder_output in batch_y]\n",
    "        return [np.array(x_encode_input),np.array(y_decode_input)], np.array(y_decode_output)\n",
    "\n",
    "    # read your data here using the batch lists, batch_x and batch_y\n",
    " "
   ]
  },
  {
   "cell_type": "code",
   "execution_count": 14,
   "metadata": {},
   "outputs": [],
   "source": [
    "def create_model(checkpoint_path = None):\n",
    "    # Define an input sequence and process it.\n",
    "    encoder_inputs = Input(shape=(max_encoder_seq_length, 1))\n",
    "    embedding_layer = Embedding(input_dim=num_encoder_tokens,\n",
    "                            output_dim=EMBEDDING_DIM,\n",
    "                            mask_zero = True,\n",
    "                            weights = [embedding_matrix],\n",
    "                            input_length = max_encoder_seq_length,\n",
    "                            trainable = False)\n",
    "    special_embedding_layer = Embedding(len(special_token),\n",
    "                            EMBEDDING_DIM,\n",
    "                            mask_zero = True,\n",
    "                            weights = [special_embedding_matrix],\n",
    "                            input_length = max_encoder_seq_length,\n",
    "                            trainable = True)\n",
    "\n",
    "    valid_words = num_encoder_tokens - len(special_token)\n",
    "\n",
    "    # Create a vector of special tokens, e.g: [0,0,1,0,3,0,0]\n",
    "    special_tokens_input = Lambda(lambda x: x - valid_words)(encoder_inputs)\n",
    "    special_tokens_input = Activation('relu')(special_tokens_input)\n",
    "\n",
    "    # Apply both 'normal' embeddings and special token embeddings\n",
    "    embedded_sequences = embedding_layer(encoder_inputs)\n",
    "    embedded_special = special_embedding_layer(special_tokens_input)\n",
    "   \n",
    "    # Add the matrices\n",
    "    embedded_sequences = Add()([embedded_sequences, embedded_special])\n",
    "    embedded_sequences = Lambda(lambda x: x, output_shape=lambda s:s)(embedded_sequences)\n",
    "    embedded_sequences = Reshape((-1,EMBEDDING_DIM))(embedded_sequences)\n",
    "    encoder = LSTM(latent_dim, return_state=True)\n",
    "    encoder_outputs, state_h, state_c = encoder(embedded_sequences)\n",
    "    # We discard `encoder_outputs` and only keep the states.\n",
    "    encoder_states = [state_h, state_c]\n",
    "\n",
    "    # Set up the decoder, using `encoder_states` as initial state.\n",
    "    decoder_inputs = Input(shape=(None, 1))\n",
    "    decode_embedding_layer = Embedding(num_decoder_tokens,\n",
    "                            100,\n",
    "                            mask_zero = True,\n",
    "                            weights = [decode_embedding_matrix],\n",
    "                            input_length = max_decoder_seq_length,\n",
    "                            trainable = True)\n",
    "\n",
    "    # We set up our decoder to return full output sequences,\n",
    "    # and to return internal states as well. We don't use the\n",
    "    # return states in the training model, but we will use them in inference.\n",
    "    decoder_seq = decode_embedding_layer(decoder_inputs)\n",
    "    decoder_seq = Lambda(lambda x: x, output_shape=lambda s:s)(decoder_seq)\n",
    "    \n",
    "    decoder_seq = Reshape((-1,EMBEDDING_DIM))(decoder_seq)\n",
    "    decoder_lstm = LSTM(latent_dim, return_sequences=True, return_state=True)\n",
    "    decoder_outputs, _, _ = decoder_lstm(decoder_seq,\n",
    "                                         initial_state=encoder_states)\n",
    "\n",
    "    decoder_dense = Dense(num_decoder_tokens, activation='softmax')\n",
    "    decoder_outputs = decoder_dense(decoder_outputs)\n",
    "\n",
    "    # Define the model that will turn\n",
    "    # `encoder_input_data` & `decoder_input_data` into `decoder_target_data`\n",
    "    model = Model([encoder_inputs, decoder_inputs], decoder_outputs)\n",
    "\n",
    "    # Define sampling models\n",
    "    encoder_model = Model(encoder_inputs, encoder_states)\n",
    "\n",
    "    decoder_state_input_h = Input(shape=(latent_dim,))\n",
    "    decoder_state_input_c = Input(shape=(latent_dim,))\n",
    "    decoder_states_inputs = [decoder_state_input_h, decoder_state_input_c]\n",
    "    decoder_outputs, state_h, state_c = decoder_lstm(\n",
    "        decoder_seq, initial_state=decoder_states_inputs)\n",
    "    decoder_states = [state_h, state_c]\n",
    "    decoder_outputs = decoder_dense(decoder_outputs)\n",
    "    decoder_model = Model(\n",
    "        [decoder_inputs] + decoder_states_inputs,\n",
    "        [decoder_outputs] + decoder_states )\n",
    "\n",
    "\n",
    "    return model,encoder_model,decoder_model"
   ]
  },
  {
   "cell_type": "code",
   "execution_count": 15,
   "metadata": {},
   "outputs": [],
   "source": [
    "# Run training\n",
    "K.set_learning_phase(True)\n",
    "model,encoder_model,decoder_model = create_model(checkpoint_path=checkpoint_path)\n",
    "model.load_weights('weights.hdf5')\n"
   ]
  },
  {
   "cell_type": "code",
   "execution_count": 27,
   "metadata": {},
   "outputs": [],
   "source": [
    "model.compile(optimizer='adam', loss='categorical_crossentropy',metrics=['accuracy'])\n",
    "checkpoints_callback = ModelCheckpoint(filepath=checkpoint_path,\n",
    "                                       monitor='acc',\n",
    "                                       verbose=1,\n",
    "                                       save_best_only=True)\n",
    "early_stopping = EarlyStopping(monitor='loss',patience=5)\n",
    "reduceLRonPlateau = ReduceLROnPlateau(monitor='loss')\n",
    "mygen = mygenerator(cmn_data['english'],cmn_data['chinese'],batch_size=128)"
   ]
  },
  {
   "cell_type": "code",
   "execution_count": 25,
   "metadata": {},
   "outputs": [
    {
     "name": "stdout",
     "output_type": "stream",
     "text": [
      "Epoch 1/5\n",
      "158/159 [============================>.] - ETA: 2s - loss: 0.8079 - acc: 0.1075Epoch 00001: acc improved from -inf to 0.10744, saving model to weights.hdf5\n"
     ]
    },
    {
     "name": "stderr",
     "output_type": "stream",
     "text": [
      "/root/miniconda3/envs/NLP/lib/python3.5/site-packages/keras/engine/topology.py:2344: UserWarning: Layer lstm_4 was passed non-serializable keyword arguments: {'initial_state': [<tf.Tensor 'lstm_3/while/Exit_2:0' shape=(?, 256) dtype=float32>, <tf.Tensor 'lstm_3/while/Exit_3:0' shape=(?, 256) dtype=float32>]}. They will not be included in the serialized model (and thus will be missing at deserialization time).\n",
      "  str(node.arguments) + '. They will not be included '\n"
     ]
    },
    {
     "name": "stdout",
     "output_type": "stream",
     "text": [
      "159/159 [==============================] - 330s 2s/step - loss: 0.8079 - acc: 0.1076\n",
      "Epoch 2/5\n",
      "158/159 [============================>.] - ETA: 2s - loss: 0.5716 - acc: 0.1320Epoch 00002: acc improved from 0.10744 to 0.13133, saving model to weights.hdf5\n",
      "159/159 [==============================] - 330s 2s/step - loss: 0.5703 - acc: 0.1317\n",
      "Epoch 3/5\n",
      "158/159 [============================>.] - ETA: 2s - loss: 0.4718 - acc: 0.1459Epoch 00003: acc improved from 0.13133 to 0.14549, saving model to weights.hdf5\n",
      "159/159 [==============================] - 351s 2s/step - loss: 0.4722 - acc: 0.1460\n",
      "Epoch 4/5\n",
      "158/159 [============================>.] - ETA: 2s - loss: 0.4031 - acc: 0.1573Epoch 00004: acc improved from 0.14549 to 0.15655, saving model to weights.hdf5\n",
      "159/159 [==============================] - 355s 2s/step - loss: 0.4026 - acc: 0.1571\n",
      "Epoch 5/5\n",
      "158/159 [============================>.] - ETA: 2s - loss: 0.3549 - acc: 0.1655Epoch 00005: acc improved from 0.15655 to 0.16475, saving model to weights.hdf5\n",
      "159/159 [==============================] - 326s 2s/step - loss: 0.3548 - acc: 0.1654\n"
     ]
    }
   ],
   "source": [
    "history = model.fit_generator(generator=mygen,use_multiprocessing=True,\n",
    "                              epochs = 5,\n",
    "          callbacks=[checkpoints_callback,early_stopping,reduceLRonPlateau])"
   ]
  },
  {
   "cell_type": "code",
   "execution_count": 50,
   "metadata": {},
   "outputs": [],
   "source": [
    "def decode_sequence(input_seq):\n",
    "    # Encode the input as state vectors.\n",
    "    states_value = encoder_model.predict(input_seq)\n",
    "    t = states_value\n",
    "    # Generate empty target sequence of length 1.\n",
    "    target_seq = np.zeros((1, 32, 1))\n",
    "    # Populate the first character of target sequence with the start character.\n",
    "    target_seq[0, 0, 0] = target_token_index['\\t']\n",
    "    \n",
    "    # Sampling loop for a batch of sequences\n",
    "    # (to simplify, here we assume a batch of size 1).\n",
    "    stop_condition = False\n",
    "    decoded_sentence = ''\n",
    "    index = 0\n",
    "    while not stop_condition:\n",
    "#         print(target_seq.shape)\n",
    "        output_tokens, h, c = decoder_model.predict(\n",
    "            [target_seq] + states_value)\n",
    "#         print(output_tokens.shape)\n",
    "        # Sample a token\n",
    "        temp = \"\"\n",
    "        for indd in range(31):\n",
    "            sampled_token_index = np.argmax(output_tokens[0, indd, :])\n",
    "            sampled_char = ch_token_set[sampled_token_index]\n",
    "            temp += sampled_char\n",
    "#         print(temp)\n",
    "        sampled_token_index = np.argmax(output_tokens[0, index, :])\n",
    "        sampled_char = ch_token_set[sampled_token_index]\n",
    "        decoded_sentence += sampled_char\n",
    "        index+=1\n",
    "         # Exit condition: either hit max length\n",
    "        # or find stop character.\n",
    "        if (sampled_char == '\\n' or\n",
    "           index > max_decoder_seq_length):\n",
    "            stop_condition = True\n",
    "#         print(decoded_sentence)\n",
    "        # Update the target sequence (of length 1).\n",
    "#         target_seq = np.zeros((1, 1, 1))\n",
    "        target_seq[0, index, 0] = sampled_token_index\n",
    "        # Update states\n",
    "#         states_value = [h, c]\n",
    "    \n",
    "    return decoded_sentence"
   ]
  },
  {
   "cell_type": "code",
   "execution_count": 93,
   "metadata": {},
   "outputs": [
    {
     "name": "stdout",
     "output_type": "stream",
     "text": [
      "['Input sequence: \\t he is afraid of snakes . \\n ', 'Output sequence 他 怕 那 只 狗 。 \\n ']\n",
      "['Input sequence: \\t i miss you so much . \\n ', 'Output sequence 我 同 意 你 。 \\n ']\n",
      "[\"Input sequence: \\t we 're going by train . \\n \", 'Output sequence 我 們 應 該 去 野 餐 。 \\n ']\n",
      "['Input sequence: \\t the sky is clear . \\n ', 'Output sequence 這 個 瓶 子 裝 滿 了 。 \\n ']\n",
      "['Input sequence: \\t wearing a suit , he stood out . \\n ', 'Output sequence 他 的 名 字 為 了 我 已 故 的 教 育 有 人 知 道 。 \\n ']\n",
      "['Input sequence: \\t she made a serious mistake . \\n ', 'Output sequence 她 是 個 很 棒 的 女 人 。 \\n ']\n",
      "['Input sequence: \\t have you eaten dinner ? \\n ', 'Output sequence 你 有 晚 飯 嗎 ？ \\n ']\n",
      "['Input sequence: \\t what do you want to be ? \\n ', 'Output sequence 你 想 做 什 麼 ？ \\n ']\n",
      "['Input sequence: \\t tom is going to help us . \\n ', 'Output sequence 汤 姆 想 告 诉 我 们 我 们 的 位 置 。 \\n ']\n",
      "[\"Input sequence: \\t he 's lazy . \\n \", 'Output sequence 他 非 常 親 切 。 \\n ']\n"
     ]
    }
   ],
   "source": [
    "for i in [4077, 2122, 3335, 1464, 8956, 7168, 3490,\n",
    "        4495, 5100, 119]:\n",
    "    i-=1\n",
    "    \n",
    "    input_seq = mygen.get_encoder_input_example(mygen,cmn_data['english'].iloc[i])\n",
    "    input_seq = np.array(input_seq)\n",
    "    input_seq = np.expand_dims(input_seq,0)\n",
    "    # print(np.array(input_seq).shape)\n",
    "    decoded_sentence = decode_sequence([input_seq])\n",
    "    with open('output.txt','a',encoding='UTF8') as f:\n",
    "        input_line = \"Input sequence: \"\n",
    "        for e in cmn_data['english'].iloc[i]:\n",
    "            input_line += e + ' '\n",
    "        output_line = \"Output sequence \"\n",
    "        for fi in decoded_sentence:\n",
    "            output_line += fi + ' '\n",
    "        print(([input_line,output_line]))\n",
    "              "
   ]
  },
  {
   "cell_type": "code",
   "execution_count": null,
   "metadata": {},
   "outputs": [],
   "source": [
    "decoder_model.summary()"
   ]
  },
  {
   "cell_type": "markdown",
   "metadata": {},
   "source": [
    "### You can test it yourself by input to input_seq\n",
    "\n",
    "We can look into the output. There's definitely a problem of overfitting.\n",
    "\n",
    "If it is in the dataset -> correct output\n",
    "\n",
    "not in the dataset -> non-sense (even if each word is in our vocabulary)"
   ]
  },
  {
   "cell_type": "code",
   "execution_count": 88,
   "metadata": {},
   "outputs": [
    {
     "name": "stdout",
     "output_type": "stream",
     "text": [
      "他是个好人。\n",
      "\n"
     ]
    }
   ],
   "source": [
    "input_seq = ['he','is','good']\n",
    "input_seq = ['\\t'] + input_seq + ['\\n']\n",
    "input_ = np.zeros((1,38,1))\n",
    "for i in range(len(input_seq)):\n",
    "    if input_seq[i] in input_token_index:\n",
    "        input_[0,i,0] = input_token_index[input_seq[i]]\n",
    "    else:\n",
    "        input_[0,i,0] = input_token_index['<unk>']\n",
    "        print(i)\n",
    "decoded_sentence = decode_sequence(input_)\n",
    "print(decoded_sentence)"
   ]
  },
  {
   "cell_type": "code",
   "execution_count": null,
   "metadata": {},
   "outputs": [],
   "source": [
    "import random\n",
    "input_seq = cmn_data['english'].iloc[random.randint(1000,1500)]\n",
    "len_input = len(input_seq)\n",
    "input_ = np.zeros((1,38,1))\n",
    "for i in range(len_input):\n",
    "    if input_seq[i] in input_token_index:\n",
    "        input_[0,i,0] = input_token_index[input_seq[i]]\n",
    "    else:\n",
    "        input_[0,i,0] = input_token_index['<unk>']\n",
    "decoded_sentence = decode_sequence(input_)\n",
    "print(input_seq)\n",
    "print(decoded_sentence)"
   ]
  },
  {
   "cell_type": "code",
   "execution_count": 89,
   "metadata": {},
   "outputs": [],
   "source": []
  },
  {
   "cell_type": "code",
   "execution_count": null,
   "metadata": {},
   "outputs": [],
   "source": []
  }
 ],
 "metadata": {
  "kernelspec": {
   "display_name": "Python (NLP)",
   "language": "python",
   "name": "nlp"
  },
  "language_info": {
   "codemirror_mode": {
    "name": "ipython",
    "version": 3
   },
   "file_extension": ".py",
   "mimetype": "text/x-python",
   "name": "python",
   "nbconvert_exporter": "python",
   "pygments_lexer": "ipython3",
   "version": "3.5.0"
  }
 },
 "nbformat": 4,
 "nbformat_minor": 2
}
